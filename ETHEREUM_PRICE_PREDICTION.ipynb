{
 "cells": [
  {
   "cell_type": "code",
   "execution_count": 29,
   "id": "8d29c880",
   "metadata": {},
   "outputs": [],
   "source": [
    "import pandas as pd\n",
    "import numpy as np \n",
    "from sklearn.svm import SVR\n",
    "import matplotlib.pyplot as plt\n",
    "plt.style.use('fivethirtyeight')\n"
   ]
  },
  {
   "cell_type": "code",
   "execution_count": 30,
   "id": "eb31f968",
   "metadata": {},
   "outputs": [
    {
     "data": {
      "text/html": [
       "<div>\n",
       "<style scoped>\n",
       "    .dataframe tbody tr th:only-of-type {\n",
       "        vertical-align: middle;\n",
       "    }\n",
       "\n",
       "    .dataframe tbody tr th {\n",
       "        vertical-align: top;\n",
       "    }\n",
       "\n",
       "    .dataframe thead th {\n",
       "        text-align: right;\n",
       "    }\n",
       "</style>\n",
       "<table border=\"1\" class=\"dataframe\">\n",
       "  <thead>\n",
       "    <tr style=\"text-align: right;\">\n",
       "      <th></th>\n",
       "      <th>Unix Timestamp</th>\n",
       "      <th>Date</th>\n",
       "      <th>Symbol</th>\n",
       "      <th>Open</th>\n",
       "      <th>High</th>\n",
       "      <th>Low</th>\n",
       "      <th>Close</th>\n",
       "      <th>Volume</th>\n",
       "    </tr>\n",
       "  </thead>\n",
       "  <tbody>\n",
       "    <tr>\n",
       "      <th>2020-04-16 00:00:00</th>\n",
       "      <td>1586995200000</td>\n",
       "      <td>2020-04-16 00:00:00</td>\n",
       "      <td>ETHUSD</td>\n",
       "      <td>152.94</td>\n",
       "      <td>152.94</td>\n",
       "      <td>150.39</td>\n",
       "      <td>150.39</td>\n",
       "      <td>650.188125</td>\n",
       "    </tr>\n",
       "    <tr>\n",
       "      <th>2020-04-15 23:00:00</th>\n",
       "      <td>1586991600000</td>\n",
       "      <td>2020-04-15 23:00:00</td>\n",
       "      <td>ETHUSD</td>\n",
       "      <td>155.81</td>\n",
       "      <td>155.81</td>\n",
       "      <td>151.39</td>\n",
       "      <td>152.94</td>\n",
       "      <td>4277.567299</td>\n",
       "    </tr>\n",
       "    <tr>\n",
       "      <th>2020-04-15 22:00:00</th>\n",
       "      <td>1586988000000</td>\n",
       "      <td>2020-04-15 22:00:00</td>\n",
       "      <td>ETHUSD</td>\n",
       "      <td>157.18</td>\n",
       "      <td>157.30</td>\n",
       "      <td>155.32</td>\n",
       "      <td>155.81</td>\n",
       "      <td>106.337279</td>\n",
       "    </tr>\n",
       "    <tr>\n",
       "      <th>2020-04-15 21:00:00</th>\n",
       "      <td>1586984400000</td>\n",
       "      <td>2020-04-15 21:00:00</td>\n",
       "      <td>ETHUSD</td>\n",
       "      <td>158.04</td>\n",
       "      <td>158.31</td>\n",
       "      <td>157.16</td>\n",
       "      <td>157.18</td>\n",
       "      <td>55.244131</td>\n",
       "    </tr>\n",
       "    <tr>\n",
       "      <th>2020-04-15 20:00:00</th>\n",
       "      <td>1586980800000</td>\n",
       "      <td>2020-04-15 20:00:00</td>\n",
       "      <td>ETHUSD</td>\n",
       "      <td>157.10</td>\n",
       "      <td>158.10</td>\n",
       "      <td>156.87</td>\n",
       "      <td>158.04</td>\n",
       "      <td>144.262622</td>\n",
       "    </tr>\n",
       "    <tr>\n",
       "      <th>...</th>\n",
       "      <td>...</td>\n",
       "      <td>...</td>\n",
       "      <td>...</td>\n",
       "      <td>...</td>\n",
       "      <td>...</td>\n",
       "      <td>...</td>\n",
       "      <td>...</td>\n",
       "      <td>...</td>\n",
       "    </tr>\n",
       "    <tr>\n",
       "      <th>2016-05-09 17:00:00</th>\n",
       "      <td>1462813200</td>\n",
       "      <td>2016-05-09 17:00:00</td>\n",
       "      <td>ETHUSD</td>\n",
       "      <td>9.83</td>\n",
       "      <td>9.83</td>\n",
       "      <td>9.48</td>\n",
       "      <td>9.49</td>\n",
       "      <td>329.553213</td>\n",
       "    </tr>\n",
       "    <tr>\n",
       "      <th>2016-05-09 16:00:00</th>\n",
       "      <td>1462809600</td>\n",
       "      <td>2016-05-09 16:00:00</td>\n",
       "      <td>ETHUSD</td>\n",
       "      <td>9.99</td>\n",
       "      <td>9.99</td>\n",
       "      <td>9.79</td>\n",
       "      <td>9.83</td>\n",
       "      <td>62.379450</td>\n",
       "    </tr>\n",
       "    <tr>\n",
       "      <th>2016-05-09 15:00:00</th>\n",
       "      <td>1462806000</td>\n",
       "      <td>2016-05-09 15:00:00</td>\n",
       "      <td>ETHUSD</td>\n",
       "      <td>10.00</td>\n",
       "      <td>10.00</td>\n",
       "      <td>9.99</td>\n",
       "      <td>9.99</td>\n",
       "      <td>10.973567</td>\n",
       "    </tr>\n",
       "    <tr>\n",
       "      <th>2016-05-09 14:00:00</th>\n",
       "      <td>1462802400</td>\n",
       "      <td>2016-05-09 14:00:00</td>\n",
       "      <td>ETHUSD</td>\n",
       "      <td>9.55</td>\n",
       "      <td>10.00</td>\n",
       "      <td>9.55</td>\n",
       "      <td>10.00</td>\n",
       "      <td>235.774075</td>\n",
       "    </tr>\n",
       "    <tr>\n",
       "      <th>2016-05-09 13:00:00</th>\n",
       "      <td>1462798800</td>\n",
       "      <td>2016-05-09 13:00:00</td>\n",
       "      <td>ETHUSD</td>\n",
       "      <td>0.00</td>\n",
       "      <td>12.00</td>\n",
       "      <td>0.00</td>\n",
       "      <td>9.55</td>\n",
       "      <td>432.562115</td>\n",
       "    </tr>\n",
       "  </tbody>\n",
       "</table>\n",
       "<p>34497 rows × 8 columns</p>\n",
       "</div>"
      ],
      "text/plain": [
       "                     Unix Timestamp                 Date  Symbol    Open  \\\n",
       "2020-04-16 00:00:00   1586995200000  2020-04-16 00:00:00  ETHUSD  152.94   \n",
       "2020-04-15 23:00:00   1586991600000  2020-04-15 23:00:00  ETHUSD  155.81   \n",
       "2020-04-15 22:00:00   1586988000000  2020-04-15 22:00:00  ETHUSD  157.18   \n",
       "2020-04-15 21:00:00   1586984400000  2020-04-15 21:00:00  ETHUSD  158.04   \n",
       "2020-04-15 20:00:00   1586980800000  2020-04-15 20:00:00  ETHUSD  157.10   \n",
       "...                             ...                  ...     ...     ...   \n",
       "2016-05-09 17:00:00      1462813200  2016-05-09 17:00:00  ETHUSD    9.83   \n",
       "2016-05-09 16:00:00      1462809600  2016-05-09 16:00:00  ETHUSD    9.99   \n",
       "2016-05-09 15:00:00      1462806000  2016-05-09 15:00:00  ETHUSD   10.00   \n",
       "2016-05-09 14:00:00      1462802400  2016-05-09 14:00:00  ETHUSD    9.55   \n",
       "2016-05-09 13:00:00      1462798800  2016-05-09 13:00:00  ETHUSD    0.00   \n",
       "\n",
       "                       High     Low   Close       Volume  \n",
       "2020-04-16 00:00:00  152.94  150.39  150.39   650.188125  \n",
       "2020-04-15 23:00:00  155.81  151.39  152.94  4277.567299  \n",
       "2020-04-15 22:00:00  157.30  155.32  155.81   106.337279  \n",
       "2020-04-15 21:00:00  158.31  157.16  157.18    55.244131  \n",
       "2020-04-15 20:00:00  158.10  156.87  158.04   144.262622  \n",
       "...                     ...     ...     ...          ...  \n",
       "2016-05-09 17:00:00    9.83    9.48    9.49   329.553213  \n",
       "2016-05-09 16:00:00    9.99    9.79    9.83    62.379450  \n",
       "2016-05-09 15:00:00   10.00    9.99    9.99    10.973567  \n",
       "2016-05-09 14:00:00   10.00    9.55   10.00   235.774075  \n",
       "2016-05-09 13:00:00   12.00    0.00    9.55   432.562115  \n",
       "\n",
       "[34497 rows x 8 columns]"
      ]
     },
     "execution_count": 30,
     "metadata": {},
     "output_type": "execute_result"
    }
   ],
   "source": [
    "#Read in the data\n",
    "df = pd.read_csv('ETH_price.csv')\n",
    "#set the data as the index\n",
    "df = df.set_index( pd.DatetimeIndex(df[ 'Date' ].values))\n",
    "#show the data\n",
    "df"
   ]
  },
  {
   "cell_type": "code",
   "execution_count": 31,
   "id": "fe031145",
   "metadata": {},
   "outputs": [],
   "source": [
    "future_days=5"
   ]
  },
  {
   "cell_type": "code",
   "execution_count": 32,
   "id": "4c6a76b2",
   "metadata": {},
   "outputs": [
    {
     "data": {
      "text/html": [
       "<div>\n",
       "<style scoped>\n",
       "    .dataframe tbody tr th:only-of-type {\n",
       "        vertical-align: middle;\n",
       "    }\n",
       "\n",
       "    .dataframe tbody tr th {\n",
       "        vertical-align: top;\n",
       "    }\n",
       "\n",
       "    .dataframe thead th {\n",
       "        text-align: right;\n",
       "    }\n",
       "</style>\n",
       "<table border=\"1\" class=\"dataframe\">\n",
       "  <thead>\n",
       "    <tr style=\"text-align: right;\">\n",
       "      <th></th>\n",
       "      <th>Close</th>\n",
       "      <th>5_Day_Price_Forecast</th>\n",
       "    </tr>\n",
       "  </thead>\n",
       "  <tbody>\n",
       "    <tr>\n",
       "      <th>2020-04-16 00:00:00</th>\n",
       "      <td>150.39</td>\n",
       "      <td>157.10</td>\n",
       "    </tr>\n",
       "    <tr>\n",
       "      <th>2020-04-15 23:00:00</th>\n",
       "      <td>152.94</td>\n",
       "      <td>157.78</td>\n",
       "    </tr>\n",
       "    <tr>\n",
       "      <th>2020-04-15 22:00:00</th>\n",
       "      <td>155.81</td>\n",
       "      <td>157.48</td>\n",
       "    </tr>\n",
       "    <tr>\n",
       "      <th>2020-04-15 21:00:00</th>\n",
       "      <td>157.18</td>\n",
       "      <td>157.12</td>\n",
       "    </tr>\n",
       "    <tr>\n",
       "      <th>2020-04-15 20:00:00</th>\n",
       "      <td>158.04</td>\n",
       "      <td>155.81</td>\n",
       "    </tr>\n",
       "    <tr>\n",
       "      <th>...</th>\n",
       "      <td>...</td>\n",
       "      <td>...</td>\n",
       "    </tr>\n",
       "    <tr>\n",
       "      <th>2016-05-09 17:00:00</th>\n",
       "      <td>9.49</td>\n",
       "      <td>NaN</td>\n",
       "    </tr>\n",
       "    <tr>\n",
       "      <th>2016-05-09 16:00:00</th>\n",
       "      <td>9.83</td>\n",
       "      <td>NaN</td>\n",
       "    </tr>\n",
       "    <tr>\n",
       "      <th>2016-05-09 15:00:00</th>\n",
       "      <td>9.99</td>\n",
       "      <td>NaN</td>\n",
       "    </tr>\n",
       "    <tr>\n",
       "      <th>2016-05-09 14:00:00</th>\n",
       "      <td>10.00</td>\n",
       "      <td>NaN</td>\n",
       "    </tr>\n",
       "    <tr>\n",
       "      <th>2016-05-09 13:00:00</th>\n",
       "      <td>9.55</td>\n",
       "      <td>NaN</td>\n",
       "    </tr>\n",
       "  </tbody>\n",
       "</table>\n",
       "<p>34497 rows × 2 columns</p>\n",
       "</div>"
      ],
      "text/plain": [
       "                      Close  5_Day_Price_Forecast\n",
       "2020-04-16 00:00:00  150.39                157.10\n",
       "2020-04-15 23:00:00  152.94                157.78\n",
       "2020-04-15 22:00:00  155.81                157.48\n",
       "2020-04-15 21:00:00  157.18                157.12\n",
       "2020-04-15 20:00:00  158.04                155.81\n",
       "...                     ...                   ...\n",
       "2016-05-09 17:00:00    9.49                   NaN\n",
       "2016-05-09 16:00:00    9.83                   NaN\n",
       "2016-05-09 15:00:00    9.99                   NaN\n",
       "2016-05-09 14:00:00   10.00                   NaN\n",
       "2016-05-09 13:00:00    9.55                   NaN\n",
       "\n",
       "[34497 rows x 2 columns]"
      ]
     },
     "execution_count": 32,
     "metadata": {},
     "output_type": "execute_result"
    }
   ],
   "source": [
    "#create a new column\n",
    "df[str(future_days)+'_Day_Price_Forecast'] = df[['Close']].shift(-future_days)\n",
    "#show the data\n",
    "df[['Close', str(future_days)+'_Day_Price_Forecast']]"
   ]
  },
  {
   "cell_type": "code",
   "execution_count": 33,
   "id": "ca2c7903",
   "metadata": {},
   "outputs": [
    {
     "name": "stdout",
     "output_type": "stream",
     "text": [
      "[[150.39]\n",
      " [152.94]\n",
      " [155.81]\n",
      " ...\n",
      " [  9.97]\n",
      " [  9.99]\n",
      " [  9.36]]\n"
     ]
    }
   ],
   "source": [
    "X = np.array(df[['Close']])\n",
    "X = X[ :df.shape[0] - future_days]\n",
    "print(X)"
   ]
  },
  {
   "cell_type": "code",
   "execution_count": 59,
   "id": "eeab09b9",
   "metadata": {},
   "outputs": [
    {
     "name": "stdout",
     "output_type": "stream",
     "text": [
      "[157.1  157.78 157.48 ...   9.99  10.     9.55]\n"
     ]
    }
   ],
   "source": [
    "y= np.array(df[str(future_days)+'_Day_Price_Forecast'])\n",
    "y= y[:-future_days]\n",
    "print(y)"
   ]
  },
  {
   "cell_type": "code",
   "execution_count": 60,
   "id": "62720b44",
   "metadata": {},
   "outputs": [],
   "source": [
    "#split the Data \n",
    "from sklearn.model_selection import train_test_split\n",
    "x_train, x_test, y_train, y_test = train_test_split(X,y, test_size = 0.2)"
   ]
  },
  {
   "cell_type": "code",
   "execution_count": 61,
   "id": "96796a1f",
   "metadata": {},
   "outputs": [
    {
     "data": {
      "text/plain": [
       "SVR(C=1000.0, gamma=1e-05)"
      ]
     },
     "execution_count": 61,
     "metadata": {},
     "output_type": "execute_result"
    }
   ],
   "source": [
    "from sklearn.svm import SVR\n",
    "svr_rbf = SVR(kernel='rbf', C=1e3, gamma = 0.00001)\n",
    "svr_rbf.fit(x_train,y_train)"
   ]
  },
  {
   "cell_type": "code",
   "execution_count": 62,
   "id": "99646528",
   "metadata": {},
   "outputs": [
    {
     "name": "stdout",
     "output_type": "stream",
     "text": [
      "svr_rbf accuracy: 0.998147591616053\n"
     ]
    }
   ],
   "source": [
    "svr_rbf_confidence = svr_rbf.score(x_test,y_test)\n",
    "print('svr_rbf accuracy:',svr_rbf_confidence)"
   ]
  },
  {
   "cell_type": "code",
   "execution_count": 63,
   "id": "ed352d73",
   "metadata": {},
   "outputs": [
    {
     "name": "stdout",
     "output_type": "stream",
     "text": [
      "[ 180.13853186  381.52114366 1017.36439871 ...  169.04808271  197.55711261\n",
      "  293.75625129]\n"
     ]
    }
   ],
   "source": [
    "svm_prediction = svr_rbf.predict(x_test)\n",
    "print(svm_prediction)"
   ]
  },
  {
   "cell_type": "code",
   "execution_count": 64,
   "id": "5a6c5237",
   "metadata": {},
   "outputs": [
    {
     "name": "stdout",
     "output_type": "stream",
     "text": [
      "[ 179.66  374.11 1054.02 ...  176.36  191.38  289.42]\n"
     ]
    }
   ],
   "source": [
    "print(y_test)"
   ]
  },
  {
   "cell_type": "code",
   "execution_count": 94,
   "id": "39d5084c",
   "metadata": {},
   "outputs": [
    {
     "data": {
      "image/png": "[encoded data removed]",
      "text/plain": [
       "<Figure size 864x360 with 1 Axes>"
      ]
     },
     "metadata": {},
     "output_type": "display_data"
    }
   ],
   "source": [
    "plt.figure(figsize=(12,5))\n",
    "plt.plot(svm_prediction, label='Prediction', lw=2, alpha=.8)\n",
    "plt.plot(Y_test, label='Actual', lw=2, alpha=.8)\n",
    "plt.title('Prediction vs Actual')\n",
    "plt.ylabel('Price in USD')\n",
    "plt.xlabel('Time')\n",
    "plt.legend()\n",
    "plt.xticks(rotation=45)\n",
    "plt.show()"
   ]
  },
  {
   "cell_type": "code",
   "execution_count": null,
   "id": "b4c28ebf",
   "metadata": {},
   "outputs": [],
   "source": []
  }
 ],
 "metadata": {
  "kernelspec": {
   "display_name": "Python 3 (ipykernel)",
   "language": "python",
   "name": "python3"
  },
  "language_info": {
   "codemirror_mode": {
    "name": "ipython",
    "version": 3
   },
   "file_extension": ".py",
   "mimetype": "text/x-python",
   "name": "python",
   "nbconvert_exporter": "python",
   "pygments_lexer": "ipython3",
   "version": "3.8.8"
  }
 },
 "nbformat": 4,
 "nbformat_minor": 5
}
